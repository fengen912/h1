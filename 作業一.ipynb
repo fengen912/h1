{
 "cells": [
  {
   "cell_type": "code",
   "execution_count": 5,
   "id": "419e6697",
   "metadata": {},
   "outputs": [
    {
     "name": "stdout",
     "output_type": "stream",
     "text": [
      "請輸入您的電子郵件地址520mazu@gmail.com\n",
      "這是有效的電子郵件地址\n"
     ]
    }
   ],
   "source": [
    "import re\n",
    "\n",
    "a=input(\"請輸入您的電子郵件地址\")\n",
    "\n",
    "if re.match(r\"^[a-zA-Z0-9_.+-]+@[a-zA-Z0-9-]+\\.[a-zA-Z0-9-.]+$\",a):\n",
    "    print(\"這是有效的電子郵件地址\")\n",
    "    \n",
    "else: \n",
    "    print(\"這並非有效的電子郵件地址\")"
   ]
  },
  {
   "cell_type": "code",
   "execution_count": null,
   "id": "1cc090ab",
   "metadata": {},
   "outputs": [],
   "source": []
  }
 ],
 "metadata": {
  "kernelspec": {
   "display_name": "Python 3 (ipykernel)",
   "language": "python",
   "name": "python3"
  },
  "language_info": {
   "codemirror_mode": {
    "name": "ipython",
    "version": 3
   },
   "file_extension": ".py",
   "mimetype": "text/x-python",
   "name": "python",
   "nbconvert_exporter": "python",
   "pygments_lexer": "ipython3",
   "version": "3.11.4"
  }
 },
 "nbformat": 4,
 "nbformat_minor": 5
}
